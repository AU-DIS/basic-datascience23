{
 "cells": [
  {
   "cell_type": "markdown",
   "id": "outside-oxygen",
   "metadata": {},
   "source": [
    "# Basic Data Science in Python - Handin 1\n",
    "## YOUR NAME HERE ##\n",
    "\n",
    "This handin is indiviual and mandatory to pass the course.\n",
    "\n",
    "Hand in this .ipynb file and the compiled pdf, no later than 13/10 kl 09:30."
   ]
  },
  {
   "cell_type": "code",
   "execution_count": 1,
   "id": "hundred-intellectual",
   "metadata": {},
   "outputs": [],
   "source": [
    "import numpy as np\n",
    "import pandas as pd\n",
    "import matplotlib.pyplot as plt\n",
    "import sklearn\n",
    "from sklearn import datasets\n",
    "from sklearn.cluster import KMeans\n",
    "from sklearn.decomposition import PCA\n",
    "from sklearn.mixture import GaussianMixture as GM"
   ]
  },
  {
   "cell_type": "markdown",
   "id": "average-track",
   "metadata": {},
   "source": [
    "### PCA and EM\n",
    "Use Principal Component Analysis to reduce the dimensionality of the Iris Dataset to 2D, and then use Gaussian Mixtures to assign the points to three clusters. Plot the result"
   ]
  },
  {
   "cell_type": "code",
   "execution_count": 2,
   "id": "bigger-passport",
   "metadata": {
    "scrolled": true
   },
   "outputs": [],
   "source": [
    "iris = datasets.load_iris()\n",
    "X = iris.data\n",
    "### YOUR CODE HERE"
   ]
  }
 ],
 "metadata": {
  "kernelspec": {
   "display_name": "Python 3",
   "language": "python",
   "name": "python3"
  },
  "language_info": {
   "codemirror_mode": {
    "name": "ipython",
    "version": 3
   },
   "file_extension": ".py",
   "mimetype": "text/x-python",
   "name": "python",
   "nbconvert_exporter": "python",
   "pygments_lexer": "ipython3",
   "version": "3.8.10"
  }
 },
 "nbformat": 4,
 "nbformat_minor": 5
}
