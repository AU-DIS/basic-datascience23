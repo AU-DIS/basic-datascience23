{
 "cells": [
  {
   "cell_type": "markdown",
   "id": "piano-communication",
   "metadata": {},
   "source": [
    "# Basic Data Science in Python - Project\n",
    "## YOUR NAME HERE ##\n",
    "\n",
    "This handin is indiviual and mandatory to pass the course.\n",
    "\n",
    "Hand in this .ipynb file, no later than 14/10 kl 23:59. "
   ]
  },
  {
   "cell_type": "markdown",
   "id": "loved-cincinnati",
   "metadata": {},
   "source": [
    "### Project description\n",
    "For this project, you have almost no limitations. You are going to be working with a [smoke detection dataset](https://www.hackster.io/stefanblattmann/real-time-smoke-detection-with-ai-based-sensor-fusion-1086e6), to classify a fire alarm. The dataset is located in the data folder, as $\\texttt{smoke_detection.csv} $.\n",
    "\n",
    "Remember before you begin, to inspect the data - i.e does it need cleaning, what are you working with? Also, remember to seperate the dataset in two - the labels (\"Fire Alarm\"), and the rest of the data.\n",
    "\n",
    "Concretely, you should use your knowledge of testing, overfitting, and the pros and cons of different models, to predict Fire Alarm (0 for no alarm, 1 for alarm) from the different air quality measures. Try at least two different methods. You must reason about your choice of methods, as well as evaluate your results. Can you visualize your results somehow?"
   ]
  },
  {
   "cell_type": "code",
   "execution_count": 5,
   "id": "handmade-drove",
   "metadata": {},
   "outputs": [],
   "source": [
    "# Your code here"
   ]
  },
  {
   "cell_type": "markdown",
   "id": "representative-confirmation",
   "metadata": {},
   "source": [
    "##### Your thougths and reflections here"
   ]
  }
 ],
 "metadata": {
  "kernelspec": {
   "display_name": "Python 3",
   "language": "python",
   "name": "python3"
  },
  "language_info": {
   "codemirror_mode": {
    "name": "ipython",
    "version": 3
   },
   "file_extension": ".py",
   "mimetype": "text/x-python",
   "name": "python",
   "nbconvert_exporter": "python",
   "pygments_lexer": "ipython3",
   "version": "3.8.10"
  }
 },
 "nbformat": 4,
 "nbformat_minor": 5
}
